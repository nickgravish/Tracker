{
 "cells": [
  {
   "cell_type": "markdown",
   "metadata": {},
   "source": [
    "Script to debug the kalman filter data association algorithm for tracking bees"
   ]
  },
  {
   "cell_type": "code",
   "execution_count": 1,
   "metadata": {
    "collapsed": false
   },
   "outputs": [],
   "source": [
    "import numpy as np\n",
    "import matplotlib.pyplot as plt\n",
    "import sys\n",
    "import cv2 as cv\n",
    "# %qtconsole\n",
    "%matplotlib qt4\n",
    "\n",
    "sys.path.append('/Users/nickgravish/Dropbox/Harvard/HighThroughputExpt/AutomatedFlightExperement/Tracker')\n",
    "from DataAssociation import DataAssociator\n",
    "\n",
    "file = '/Users/nickgravish/Dropbox/Harvard/HighThroughputExpt/2016-08-05_12.41.20/1_08-05-16_12-41-31.770_Fri_Aug_05_12-41-20.543_115.txt'\n",
    "\n",
    "data = DataAssociator(filename = file)\n",
    "data.run()"
   ]
  },
  {
   "cell_type": "code",
   "execution_count": 2,
   "metadata": {
    "collapsed": false
   },
   "outputs": [
    {
     "name": "stdout",
     "output_type": "stream",
     "text": [
      "Warning: QApplication was created before pyqtgraph was imported; there may be problems (to avoid bugs, call QApplication.setGraphicsSystem(\"raster\") before the QApplication is created).\n",
      "Starting  None\n",
      "thread  None      0\n"
     ]
    },
    {
     "name": "stderr",
     "output_type": "stream",
     "text": [
      "/Users/nickgravish/Dropbox/Python/show_videos/FastVideoLoad.py:24: VisibleDeprecationWarning: using a non-integer number instead of an integer will result in an error in the future\n",
      "  self.frames = np.zeros((self.NumFrames, self.Height, self.Width), np.uint8)\n"
     ]
    },
    {
     "name": "stdout",
     "output_type": "stream",
     "text": [
      "thread  None      100\n",
      "thread  None      200\n",
      "thread  None      300\n",
      "thread  None      400\n",
      "thread  None      500\n",
      "thread  None      600\n",
      "thread  None      700\n",
      "thread  None      800\n",
      "thread  None      900\n",
      "Vid\n"
     ]
    },
    {
     "name": "stderr",
     "output_type": "stream",
     "text": [
      "/Users/nickgravish/anaconda/lib/python3.4/site-packages/pyqtgraph/graphicsItems/ImageItem.py:354: VisibleDeprecationWarning: using a non-integer number instead of an integer will result in an error in the future\n",
      "  stepData = self.image[::step[0], ::step[1]]\n",
      "/Users/nickgravish/anaconda/lib/python3.4/site-packages/pyqtgraph/graphicsItems/ScatterPlotItem.py:186: VisibleDeprecationWarning: using a non-integer number instead of an integer will result in an error in the future\n",
      "  self.atlasData[x:x+w, y:y+h] = rendered[key]\n"
     ]
    },
    {
     "ename": "AttributeError",
     "evalue": "'list' object has no attribute 'addItem'",
     "output_type": "error",
     "traceback": [
      "\u001b[0;31m---------------------------------------------------------------------------\u001b[0m",
      "\u001b[0;31mAttributeError\u001b[0m                            Traceback (most recent call last)",
      "\u001b[0;32m<ipython-input-2-4f66dfc563d4>\u001b[0m in \u001b[0;36m<module>\u001b[0;34m()\u001b[0m\n\u001b[1;32m     13\u001b[0m \u001b[0mp2\u001b[0m \u001b[0;34m=\u001b[0m \u001b[0mw\u001b[0m\u001b[0;34m.\u001b[0m\u001b[0maddPlot\u001b[0m\u001b[0;34m(\u001b[0m\u001b[0mtitle\u001b[0m\u001b[0;34m=\u001b[0m\u001b[0;34m\"Multiple curves\"\u001b[0m\u001b[0;34m)\u001b[0m\u001b[0;34m\u001b[0m\u001b[0m\n\u001b[1;32m     14\u001b[0m \u001b[0;34m\u001b[0m\u001b[0m\n\u001b[0;32m---> 15\u001b[0;31m \u001b[0mv\u001b[0m \u001b[0;34m=\u001b[0m \u001b[0mVideoStreamView\u001b[0m\u001b[0;34m(\u001b[0m\u001b[0mvid\u001b[0m\u001b[0;34m,\u001b[0m \u001b[0mtranspose\u001b[0m \u001b[0;34m=\u001b[0m \u001b[0;32mTrue\u001b[0m\u001b[0;34m,\u001b[0m \u001b[0mtracked_data\u001b[0m \u001b[0;34m=\u001b[0m \u001b[0mdata\u001b[0m\u001b[0;34m.\u001b[0m\u001b[0mframe_objects\u001b[0m\u001b[0;34m,\u001b[0m \u001b[0mview\u001b[0m \u001b[0;34m=\u001b[0m \u001b[0mp2\u001b[0m\u001b[0;34m)\u001b[0m\u001b[0;34m\u001b[0m\u001b[0m\n\u001b[0m\u001b[1;32m     16\u001b[0m \u001b[0;34m\u001b[0m\u001b[0m\n\u001b[1;32m     17\u001b[0m \u001b[0mw\u001b[0m\u001b[0;34m.\u001b[0m\u001b[0maddWidget\u001b[0m\u001b[0;34m(\u001b[0m\u001b[0mv\u001b[0m\u001b[0;34m)\u001b[0m\u001b[0;34m\u001b[0m\u001b[0m\n",
      "\u001b[0;32m/Users/nickgravish/Dropbox/Harvard/HighThroughputExpt/AutomatedFlightExperement/tracker/Visualize.py\u001b[0m in \u001b[0;36m__init__\u001b[0;34m(self, video, transpose, tracked_data, view)\u001b[0m\n\u001b[1;32m     38\u001b[0m         \u001b[0mself\u001b[0m\u001b[0;34m.\u001b[0m\u001b[0mtracked_data\u001b[0m \u001b[0;34m=\u001b[0m \u001b[0mtracked_data\u001b[0m\u001b[0;34m\u001b[0m\u001b[0m\n\u001b[1;32m     39\u001b[0m         \u001b[0;32mif\u001b[0m \u001b[0mself\u001b[0m\u001b[0;34m.\u001b[0m\u001b[0mtracked_data\u001b[0m \u001b[0;32mis\u001b[0m \u001b[0;32mnot\u001b[0m \u001b[0;32mNone\u001b[0m\u001b[0;34m:\u001b[0m\u001b[0;34m\u001b[0m\u001b[0m\n\u001b[0;32m---> 40\u001b[0;31m             \u001b[0mself\u001b[0m\u001b[0;34m.\u001b[0m\u001b[0maddPlot\u001b[0m\u001b[0;34m(\u001b[0m\u001b[0;34m)\u001b[0m\u001b[0;34m\u001b[0m\u001b[0m\n\u001b[0m\u001b[1;32m     41\u001b[0m \u001b[0;34m\u001b[0m\u001b[0m\n\u001b[1;32m     42\u001b[0m \u001b[0;34m\u001b[0m\u001b[0m\n",
      "\u001b[0;32m/Users/nickgravish/Dropbox/Harvard/HighThroughputExpt/AutomatedFlightExperement/tracker/Visualize.py\u001b[0m in \u001b[0;36maddPlot\u001b[0;34m(self)\u001b[0m\n\u001b[1;32m     50\u001b[0m                 \u001b[0my\u001b[0m\u001b[0;34m.\u001b[0m\u001b[0mappend\u001b[0m\u001b[0;34m(\u001b[0m\u001b[0mtrk\u001b[0m\u001b[0;34m[\u001b[0m\u001b[0;34m'y'\u001b[0m\u001b[0;34m]\u001b[0m\u001b[0;34m)\u001b[0m\u001b[0;34m\u001b[0m\u001b[0m\n\u001b[1;32m     51\u001b[0m \u001b[0;34m\u001b[0m\u001b[0m\n\u001b[0;32m---> 52\u001b[0;31m         \u001b[0mself\u001b[0m\u001b[0;34m.\u001b[0m\u001b[0mview\u001b[0m\u001b[0;34m.\u001b[0m\u001b[0maddItem\u001b[0m\u001b[0;34m(\u001b[0m\u001b[0mpg\u001b[0m\u001b[0;34m.\u001b[0m\u001b[0mPlotItem\u001b[0m\u001b[0;34m.\u001b[0m\u001b[0mplot\u001b[0m\u001b[0;34m(\u001b[0m\u001b[0mx\u001b[0m\u001b[0;34m,\u001b[0m\u001b[0my\u001b[0m\u001b[0;34m,\u001b[0m\u001b[0msymbol\u001b[0m \u001b[0;34m=\u001b[0m \u001b[0;34m'o'\u001b[0m\u001b[0;34m,\u001b[0m \u001b[0mpen\u001b[0m\u001b[0;34m=\u001b[0m\u001b[0;32mNone\u001b[0m\u001b[0;34m)\u001b[0m\u001b[0;34m)\u001b[0m\u001b[0;34m\u001b[0m\u001b[0m\n\u001b[0m\u001b[1;32m     53\u001b[0m \u001b[0;34m\u001b[0m\u001b[0m\n\u001b[1;32m     54\u001b[0m     \u001b[0;32mdef\u001b[0m \u001b[0mwheelEvent\u001b[0m\u001b[0;34m(\u001b[0m\u001b[0mself\u001b[0m\u001b[0;34m,\u001b[0m \u001b[0mev\u001b[0m\u001b[0;34m)\u001b[0m\u001b[0;34m:\u001b[0m\u001b[0;34m\u001b[0m\u001b[0m\n",
      "\u001b[0;32m/Users/nickgravish/anaconda/lib/python3.4/site-packages/pyqtgraph/graphicsItems/PlotItem/PlotItem.py\u001b[0m in \u001b[0;36mplot\u001b[0;34m(self, *args, **kargs)\u001b[0m\n\u001b[1;32m    632\u001b[0m         \u001b[0;32mif\u001b[0m \u001b[0mparams\u001b[0m \u001b[0;32mis\u001b[0m \u001b[0;32mNone\u001b[0m\u001b[0;34m:\u001b[0m\u001b[0;34m\u001b[0m\u001b[0m\n\u001b[1;32m    633\u001b[0m             \u001b[0mparams\u001b[0m \u001b[0;34m=\u001b[0m \u001b[0;34m{\u001b[0m\u001b[0;34m}\u001b[0m\u001b[0;34m\u001b[0m\u001b[0m\n\u001b[0;32m--> 634\u001b[0;31m         \u001b[0mself\u001b[0m\u001b[0;34m.\u001b[0m\u001b[0maddItem\u001b[0m\u001b[0;34m(\u001b[0m\u001b[0mitem\u001b[0m\u001b[0;34m,\u001b[0m \u001b[0mparams\u001b[0m\u001b[0;34m=\u001b[0m\u001b[0mparams\u001b[0m\u001b[0;34m)\u001b[0m\u001b[0;34m\u001b[0m\u001b[0m\n\u001b[0m\u001b[1;32m    635\u001b[0m \u001b[0;34m\u001b[0m\u001b[0m\n\u001b[1;32m    636\u001b[0m         \u001b[0;32mreturn\u001b[0m \u001b[0mitem\u001b[0m\u001b[0;34m\u001b[0m\u001b[0m\n",
      "\u001b[0;31mAttributeError\u001b[0m: 'list' object has no attribute 'addItem'"
     ]
    }
   ],
   "source": [
    "from Visualize import VideoStreamView\n",
    "from pyqtgraph.Qt import QtCore, QtGui\n",
    "import pyqtgraph as pg\n",
    "\n",
    "sys.path.append('/Users/nickgravish/Dropbox/Python')\n",
    "from show_videos.FastVideoLoad import FastVideoLoad\n",
    "\n",
    "vid = FastVideoLoad(file[:-3] + 'mp4')\n",
    "print('Vid')\n",
    "w = pg.GraphicsWindow()\n",
    "w.resize(1200, 600)\n",
    "w.move(QtGui.QApplication.desktop().screen().rect().center() - w.rect().center())\n",
    "p2 = w.addPlot(title=\"Multiple curves\")\n",
    "\n",
    "v = VideoStreamView(vid, transpose = True, tracked_data = data.frame_objects, view = p2)\n",
    "\n",
    "w.addWidget(v)\n",
    "\n",
    "w.show()\n",
    "\n",
    "QtGui.QApplication.instance().exec_()\n"
   ]
  },
  {
   "cell_type": "code",
   "execution_count": 6,
   "metadata": {
    "collapsed": false
   },
   "outputs": [],
   "source": [
    "%qtconsole"
   ]
  },
  {
   "cell_type": "code",
   "execution_count": 7,
   "metadata": {
    "collapsed": false
   },
   "outputs": [
    {
     "name": "stderr",
     "output_type": "stream",
     "text": [
      "/Users/nickgravish/anaconda/lib/python3.4/site-packages/pyqtgraph/graphicsItems/ScatterPlotItem.py:186: VisibleDeprecationWarning: using a non-integer number instead of an integer will result in an error in the future\n",
      "  self.atlasData[x:x+w, y:y+h] = rendered[key]\n"
     ]
    },
    {
     "data": {
      "text/plain": [
       "<pyqtgraph.graphicsItems.PlotDataItem.PlotDataItem at 0x106a47948>"
      ]
     },
     "execution_count": 7,
     "metadata": {},
     "output_type": "execute_result"
    }
   ],
   "source": [
    "x = []\n",
    "y = []\n",
    "\n",
    "for frm in data.frame_objects:\n",
    "    for trk in frm:\n",
    "        x.append(trk['x'])\n",
    "        y.append(trk['y'])\n",
    "                 \n",
    "w = pg.GraphicsWindow()\n",
    "w.resize(1200, 600)\n",
    "w.move(QtGui.QApplication.desktop().screen().rect().center() - w.rect().center())\n",
    "p2 = w.addPlot(title=\"Multiple curves\")\n",
    "p2.plot(x,y,symbol = 'o', pen=None)"
   ]
  },
  {
   "cell_type": "code",
   "execution_count": 6,
   "metadata": {
    "collapsed": false
   },
   "outputs": [
    {
     "name": "stderr",
     "output_type": "stream",
     "text": [
      "/Users/nickgravish/anaconda/lib/python3.4/site-packages/pyqtgraph/graphicsItems/ScatterPlotItem.py:186: VisibleDeprecationWarning: using a non-integer number instead of an integer will result in an error in the future\n",
      "  self.atlasData[x:x+w, y:y+h] = rendered[key]\n"
     ]
    }
   ],
   "source": [
    "w = pg.GraphicsWindow()\n",
    "w.resize(1200, 600)\n",
    "w.move(QtGui.QApplication.desktop().screen().rect().center() - w.rect().center())\n",
    "p2 = w.addPlot(title=\"Multiple curves\")\n",
    "\n",
    "x = []\n",
    "y = []\n",
    "\n",
    "for frm in data.frame_objects[0:100]:\n",
    "    for trk in frm:\n",
    "        p2.plot([trk['x']], [trk['y']], pen=None, \n",
    "                                    symbol='o', \n",
    "                                    symbolPen=None, \n",
    "                                    symbolSize=10, \n",
    "                                    symbolBrush=(255, 255, 255, 255))\n",
    "        \n",
    "        "
   ]
  },
  {
   "cell_type": "code",
   "execution_count": 17,
   "metadata": {
    "collapsed": false
   },
   "outputs": [
    {
     "name": "stderr",
     "output_type": "stream",
     "text": [
      "/Users/nickgravish/anaconda/lib/python3.4/site-packages/pyqtgraph/graphicsItems/ImageItem.py:354: VisibleDeprecationWarning: using a non-integer number instead of an integer will result in an error in the future\n",
      "  stepData = self.image[::step[0], ::step[1]]\n",
      "/Users/nickgravish/anaconda/lib/python3.4/site-packages/pyqtgraph/graphicsItems/ScatterPlotItem.py:186: VisibleDeprecationWarning: using a non-integer number instead of an integer will result in an error in the future\n",
      "  self.atlasData[x:x+w, y:y+h] = rendered[key]\n"
     ]
    },
    {
     "data": {
      "text/plain": [
       "-1"
      ]
     },
     "execution_count": 17,
     "metadata": {},
     "output_type": "execute_result"
    }
   ],
   "source": [
    "w = pg.GraphicsWindow()\n",
    "win = QtGui.QMainWindow()\n",
    "win.resize(1200, 600)\n",
    "win.move(QtGui.QApplication.desktop().screen().rect().center() - w.rect().center())\n",
    "imv = pg.ImageView()\n",
    "\n",
    "win.setCentralWidget(imv)\n",
    "imv.setImage(vid.frames)\n",
    "win.show()\n",
    "\n",
    "\n",
    "\n",
    "x = []\n",
    "y = []\n",
    "\n",
    "for frm in data.frame_objects:\n",
    "    for trk in frm:\n",
    "        x.append(trk['x'])\n",
    "        y.append(trk['y'])\n",
    "        \n",
    "p2 =pg.PlotItem()\n",
    "\n",
    "imv.addItem(p2.plot(x,y,symbol = 'o', pen = None))\n",
    "\n",
    "QtGui.QApplication.instance().exec_()"
   ]
  },
  {
   "cell_type": "code",
   "execution_count": null,
   "metadata": {
    "collapsed": true
   },
   "outputs": [],
   "source": []
  }
 ],
 "metadata": {
  "kernelspec": {
   "display_name": "Python 3",
   "language": "python",
   "name": "python3"
  },
  "language_info": {
   "codemirror_mode": {
    "name": "ipython",
    "version": 3
   },
   "file_extension": ".py",
   "mimetype": "text/x-python",
   "name": "python",
   "nbconvert_exporter": "python",
   "pygments_lexer": "ipython3",
   "version": "3.4.5"
  }
 },
 "nbformat": 4,
 "nbformat_minor": 0
}
